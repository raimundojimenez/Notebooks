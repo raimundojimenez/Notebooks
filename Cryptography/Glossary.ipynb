{
 "cells": [
  {
   "cell_type": "markdown",
   "metadata": {},
   "source": [
    "# Glossary\n"
   ]
  },
  {
   "cell_type": "markdown",
   "metadata": {},
   "source": [
    "\n",
    "Term             | Explanation       |\n",
    ":----------------|:------------------|\n",
    "$\\oplus$         | Exclusive-or\n",
    "$\\in$            | In, belongs to\n",
    "$\\exists$        | There exists\n",
    "$\\forall$        | For all\n",
    "    "
   ]
  },
  {
   "cell_type": "code",
   "execution_count": 23,
   "metadata": {},
   "outputs": [
    {
     "data": {
      "text/html": [
       "<style>    .jp-RenderedHTMLCommon table { font-size: 14px;display:inline-block;}.jp-RenderedHTMLCommon th { min-width:90px;max-width:80%;}    .rendered_html table { font-size: 14px;display:inline-block;}.rendered_html th { min-width:90px;max-width:80%;}</style>"
      ],
      "text/plain": [
       "<IPython.core.display.HTML object>"
      ]
     },
     "metadata": {},
     "output_type": "display_data"
    }
   ],
   "source": [
    "# To style table above\n",
    "from IPython.core.display import display, HTML\n",
    "display(HTML(\"<style>\\\n",
    "    .jp-RenderedHTMLCommon table { font-size: 14px;display:inline-block;}.jp-RenderedHTMLCommon th { min-width:90px;max-width:80%;}\\\n",
    "    .rendered_html table { font-size: 14px;display:inline-block;}.rendered_html th { min-width:90px;max-width:80%;}\\\n",
    "</style>\"))"
   ]
  },
  {
   "cell_type": "code",
   "execution_count": null,
   "metadata": {},
   "outputs": [],
   "source": []
  }
 ],
 "metadata": {
  "kernelspec": {
   "display_name": "Python 3",
   "language": "python",
   "name": "python3"
  },
  "language_info": {
   "codemirror_mode": {
    "name": "ipython",
    "version": 3
   },
   "file_extension": ".py",
   "mimetype": "text/x-python",
   "name": "python",
   "nbconvert_exporter": "python",
   "pygments_lexer": "ipython3",
   "version": "3.7.6"
  }
 },
 "nbformat": 4,
 "nbformat_minor": 4
}
