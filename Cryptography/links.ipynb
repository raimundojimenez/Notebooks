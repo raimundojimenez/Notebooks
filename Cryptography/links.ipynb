{
 "cells": [
  {
   "cell_type": "markdown",
   "metadata": {},
   "source": [
    "# Jupyter notebooks on cryptography\n",
    "\n",
    "[David Lowry Duda - RSA](https://gist.github.com/davidlowryduda/c0e8d526a8e144997fac)    \n",
    "[Stream ciphers](https://github.com/Mindstormer619/CryptoNotes/blob/master/Stream%20Ciphers.ipynb)    \n",
    "[Cryptography ciphers](https://github.com/DatBiscuit/Cryptography-Ciphers/blob/master/Cryptography%20Ciphers.ipynb)    \n",
    "[Cryptography module](https://academicworks.cuny.edu/jj_oers/6/)    \n",
    "[Elliptic curve cryptography](https://fangpenlin.com/posts/2019/10/07/elliptic-curve-cryptography-explained/)    \n",
    "[Python and cryptography](http://illustratedtheoryofnumbers.com/prog.html)    \n",
    "\n",
    "## Cryptol jupyter notebooks\n",
    "[dylanmc](https://github.com/dylanmc/cryptol/tree/master/notebook)    \n",
    "GaloisInc: [ICryptol](https://github.com/GaloisInc/ICryptol)    \n",
    "Jupyter [list of kernels for other languages](https://github.com/jupyter/jupyter/wiki/Jupyter-kernels)    \n",
    "Jupyter: [making kernels for Jupyter](https://jupyter-client.readthedocs.io/en/latest/kernels.html)    \n",
    "[Creating language kernels for IPython](http://andrew.gibiansky.com/blog/ipython/ipython-kernels/)"
   ]
  },
  {
   "cell_type": "code",
   "execution_count": null,
   "metadata": {},
   "outputs": [],
   "source": []
  }
 ],
 "metadata": {
  "kernelspec": {
   "display_name": "Python 3",
   "language": "python",
   "name": "python3"
  },
  "language_info": {
   "codemirror_mode": {
    "name": "ipython",
    "version": 3
   },
   "file_extension": ".py",
   "mimetype": "text/x-python",
   "name": "python",
   "nbconvert_exporter": "python",
   "pygments_lexer": "ipython3",
   "version": "3.7.6"
  }
 },
 "nbformat": 4,
 "nbformat_minor": 4
}
