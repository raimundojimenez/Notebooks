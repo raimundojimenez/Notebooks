{
 "cells": [
  {
   "cell_type": "markdown",
   "metadata": {},
   "source": [
    "## Q 1 \n",
    "\n",
    "Feedback - correct:\n",
    "\n",
    "20814804c1767293bd9f1d9cab3bc3e7 ac1e37bfb15599e5f40eef805488281d\n",
    "\n",
    "\n",
    "----"
   ]
  },
  {
   "cell_type": "markdown",
   "metadata": {},
   "source": [
    "## Q 2\n",
    "\n",
    "Let (E,D) be an encryption system with key space K, message space {0,1}<sup>n</sup> and ciphertext space {0,1}<sup>s</sup>. Suppose (E,D) provides authenticated encryption. Which of the following systems provide authenticated encryption:"
   ]
  },
  {
   "cell_type": "markdown",
   "metadata": {},
   "source": [
    "#### Correct:\n",
    "\n",
    "E′(k,m) = E(k,m &oplus; 1<sup>n</sup>) and  \n",
    "\n",
    "\n",
    "<div style='border:0px solid red;margin:0;padding:0;height:100px;position:relative;left:30px;width:200px;'>\n",
    "    <div style='position:absolute;top:30px;'>D'(k,c) =  </div>\n",
    "    <div style='font-size:80px;font-weight:100;position:absolute;line-height:0.9;left:80px;top:0px'>&#123;</div>\n",
    "    <div style='position:absolute;top:5px;left:120px;width:200px'>D(k,c)&otimes; 1<sup>n</sup> &nbsp;&nbsp;&nbsp;&nbsp;if D(k,c) &#8800; &#8869;</div>\n",
    "    <div style='position:absolute;top:50px;left:120px;width:200px;'>&#8869; &nbsp;&nbsp;&nbsp;&nbsp;otherwise</div>    \n",
    "</div>\n"
   ]
  },
  {
   "cell_type": "markdown",
   "metadata": {},
   "source": [
    "This states that the decrypted ciphertext is the decrypted authenticated encyption xor 1 if the decrypted authenticated encryption does not return bottom (ie verifies the ciphertext). The decrypted authenticated encyption needs to be Xor-ed with 1 ($\\otimes$ 1 simply flips all bits) to get the original message. "
   ]
  },
  {
   "cell_type": "markdown",
   "metadata": {},
   "source": [
    "#### Correct:\n",
    "\n",
    "$ E'(k,m) = (E(k,m),0)$ and    \n",
    "\n",
    "$\n",
    " \\quad D'(k,(c,b)) = \n",
    "  \\begin{cases} \n",
    "   D(k,c) & \\text{if } b = 0\\\\\n",
    "   ⊥ & \\text{otherwise}\n",
    "  \\end{cases}\n",
    "$\n"
   ]
  },
  {
   "cell_type": "markdown",
   "metadata": {},
   "source": [
    "This states that the decrypted ciphertext is the decrypted authenticated encryption if the variable, b, accompanying the ciphertext is 0 (which is the case when m is encrypted under $(E(k,m),0)$."
   ]
  },
  {
   "cell_type": "markdown",
   "metadata": {},
   "source": [
    "#### Incorrect:\n",
    "\n",
    "$ E'(k,m) = (E(k,m),0)$ and  \n",
    "\n",
    "$\\quad D′(k,(c,b))= D(k,c)$"
   ]
  },
  {
   "cell_type": "markdown",
   "metadata": {},
   "source": [
    "The feedback states: This system does not provide ciphertext integrity. The attacker queries for $E'(k,0^n)$ to obtain $(c,0)$.  It then outputs $(c,1)$ and wins the ciphertext integrity game. Because bottom is never returned, $(c,1)$ will be verified even though this is a new ciphertext.\n",
    "\n",
    "Ciphertext integrity means attacker cannot create new ciphertexts that decrypt properly. If b returns 1 below then adversary wins the game.\n",
    "\n",
    "#### Slide 12\n",
    "\n",
    "![Slide 12](07-authenc-slide12.png)\n",
    "\n",
    "\n",
    "#### Sliide 14\n",
    "\n",
    "\n",
    "![Slide 14](07-authenc-slide14.png)\n"
   ]
  },
  {
   "cell_type": "markdown",
   "metadata": {},
   "source": [
    "#### Incorrect:\n",
    "\n",
    "$E'(k,m) = (E(k,m), E(k,m))$ and\n",
    "\n",
    "$ \n",
    "\\quad D'(k,(c1,c2)) = \n",
    "\\begin{cases}\n",
    "D(k,c1) & \\text{if } D'(k,c1) = D'(k,c2) \\\\\n",
    "⊥ & \\text{otherwise}\n",
    "\\end{cases}\n",
    "$"
   ]
  },
  {
   "cell_type": "markdown",
   "metadata": {},
   "source": [
    "The feedback states: This system does not provide ciphertext integrity. To see why, recall that authenticated encryption (without a nonce) must be randomized to provide CPA security. Therefore $E'(k,m) = (c1,c2)$ will likely output a distinct ciphertext pair $c1 \\neq c2$. The attacker can then output the ciphertext $(c1,c2)$ and win the ciphertext integrity game. \n",
    "\n",
    "----"
   ]
  },
  {
   "cell_type": "markdown",
   "metadata": {},
   "source": [
    "## Q3\n",
    "\n",
    "Feedback - correct:\n",
    "\n",
    "Use a standard implementation...\n",
    "\n",
    "----"
   ]
  },
  {
   "cell_type": "markdown",
   "metadata": {},
   "source": [
    "## Q4\n",
    "\n",
    "Correct: authenticated encryption\n",
    "\n",
    "----"
   ]
  },
  {
   "cell_type": "markdown",
   "metadata": {},
   "source": [
    "## Q5\n",
    "\n",
    "Suppose $k$ is a non-uniform secret key sampled from the key space $\\{0,1\\}^{256}$. In particular, \n",
    "$k$ is sampled uniformly from the set of all keys whose most significant 128 bits are all 0. In other words, $k$ is chosen uniformly from a small subset of the key space. More precisely,\n",
    "\n",
    "for all $c ∈ \\{0,1\\}^{256} : Pr[k=c] = \n",
    "\\begin{cases}\n",
    "1/2^{128} & \\text{if } MSB_{128}(c) = 0^{128} \\\\\n",
    "0 & \\text{otherwise}\n",
    "\\end{cases}\n",
    "$\n",
    "\n",
    "Let $F(k,x)$ be a secure PRF with input space $\\{0,1\\}^{256}$.\n",
    "\n",
    "Which of the following is a secure PRF when the key is uniform in the key $k$ space $\\{0,1\\}^{256}$, but is insecure when the key is sampled from the non-uniform distribution described above?\n",
    "\n",
    "\n",
    "#### Incorrect:\n",
    "\n",
    "$\n",
    "F'(k,x) = \n",
    "\\begin{cases}\n",
    "F(k,x) & \\text{if } MSB_{128}(k) \\neq 1^{128} \\\\\n",
    "0^{256} & \\text{otherwise}\n",
    "\\end{cases}\n",
    "$\n",
    "\n",
    "Feedback stated:  $F'(k,x)$ is a secure PRF because for a uniform key $k$ the probability that $MSB_{128}(k) = 1^{128}$ is neglible.  But it may also be secure for the *non-uniform* key $k$ described in the problem.\n",
    "\n",
    "----"
   ]
  },
  {
   "cell_type": "markdown",
   "metadata": {},
   "source": [
    "## Q6\n",
    "\n",
    "Correct:  chosen at random from large space\n",
    "\n",
    "----"
   ]
  },
  {
   "cell_type": "markdown",
   "metadata": {},
   "source": [
    "## Q7\n",
    "\n",
    "Let $E(k,x)$ be a secure block cipher. Consider the following tweakable block cipher:\n",
    "\n",
    "$E'((k_1,k_2),t,x) = E(k_1,x) \\oplus E(k_2,t)$\n",
    "\n",
    "Is this tweakable block cipher secure?"
   ]
  },
  {
   "cell_type": "markdown",
   "metadata": {},
   "source": [
    "This states that an encryption of data $x$ using keys $k_1$ and $k_2$ and tweak $t$ is equal to a secure block cipher encryption of $x$ using key $k_1$ xor'd with a secure block cipher encryption of $t$ using key $k_2$."
   ]
  },
  {
   "cell_type": "markdown",
   "metadata": {},
   "source": [
    "#### Incorrect:\n",
    "Yes it is secure is incorrect."
   ]
  },
  {
   "cell_type": "markdown",
   "metadata": {},
   "source": [
    "## Q8\n",
    "\n",
    "#### Incorrect:\n",
    "\n",
    "${10^{16}}/{2^{128}}$ incorrect because less than 1\n",
    "\n",
    "----"
   ]
  },
  {
   "cell_type": "markdown",
   "metadata": {},
   "source": [
    "## Q9\n",
    "\n",
    "MAC is secure (Not secure - is wrong)\n",
    "\n",
    "----"
   ]
  },
  {
   "cell_type": "markdown",
   "metadata": {},
   "source": [
    "## Q10\n",
    "\n",
    "#### Correct:\n",
    "12288\n",
    "\n",
    "----"
   ]
  },
  {
   "cell_type": "code",
   "execution_count": null,
   "metadata": {},
   "outputs": [],
   "source": []
  }
 ],
 "metadata": {
  "kernelspec": {
   "display_name": "Python 3",
   "language": "python",
   "name": "python3"
  },
  "language_info": {
   "codemirror_mode": {
    "name": "ipython",
    "version": 3
   },
   "file_extension": ".py",
   "mimetype": "text/x-python",
   "name": "python",
   "nbconvert_exporter": "python",
   "pygments_lexer": "ipython3",
   "version": "3.7.6"
  }
 },
 "nbformat": 4,
 "nbformat_minor": 4
}
