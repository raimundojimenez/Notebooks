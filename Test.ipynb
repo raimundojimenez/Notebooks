{
  "nbformat": 4,
  "nbformat_minor": 0,
  "metadata": {
    "kernelspec": {
      "display_name": "Python 3",
      "language": "python",
      "name": "python3"
    },
    "language_info": {
      "codemirror_mode": {
        "name": "ipython",
        "version": 3
      },
      "file_extension": ".py",
      "mimetype": "text/x-python",
      "name": "python",
      "nbconvert_exporter": "python",
      "pygments_lexer": "ipython3",
      "version": "3.7.4"
    },
    "colab": {
      "name": "Test.ipynb",
      "provenance": []
    }
  },
  "cells": [
    {
      "cell_type": "markdown",
      "metadata": {
        "id": "PH_rYvH1dCC5",
        "colab_type": "text"
      },
      "source": [
        "# This is a pythyon notebook"
      ]
    },
    {
      "cell_type": "code",
      "metadata": {
        "id": "TOWQrrTNdCC7",
        "colab_type": "code",
        "colab": {}
      },
      "source": [
        "print(\"This is a test\")"
      ],
      "execution_count": 0,
      "outputs": []
    }
  ]
}