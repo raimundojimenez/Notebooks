{
 "cells": [
  {
   "cell_type": "markdown",
   "metadata": {},
   "source": [
    "## Q 1 \n",
    "\n",
    "Feedback - correct:\n",
    "\n",
    "20814804c1767293bd9f1d9cab3bc3e7 ac1e37bfb15599e5f40eef805488281d\n"
   ]
  },
  {
   "cell_type": "markdown",
   "metadata": {},
   "source": [
    "## Q 2\n",
    "\n",
    "Let (E,D) be an encryption system with key space K, message space {0,1}<sup>n</sup> and ciphertext space {0,1}<sup>s</sup>. Suppose (E,D) provides authenticated encryption. Which of the following systems provide authenticated encryption:"
   ]
  },
  {
   "cell_type": "markdown",
   "metadata": {},
   "source": [
    "#### Correct:\n",
    "\n",
    "E′(k,m) = E(k,m &otimes; 1<sup>n</sup>) and  \n",
    "\n",
    "\n",
    "<div style='border:0px solid red;margin:0;padding:0;height:80px;position:relative;left:30px;'>\n",
    "    <div style='position:absolute;top:30px;'>D'(k,c) =  </div>\n",
    "    <div style='font-size:80px;font-weight:100;position:absolute;line-height:0.9;left:80px;top:0px'>&#123;</div>\n",
    "    <div style='position:absolute;top:5px;left:120px;width:200px'>D(k,c)&otimes; 1<sup>n</sup> &nbsp;&nbsp;&nbsp;&nbsp;if D(k,c) &#8800; &#8869;</div>\n",
    "    <div style='position:absolute;top:50px;left:120px;width:200px;'>&#8869; &nbsp;&nbsp;&nbsp;&nbsp;otherwise</div>    \n",
    "</div>\n"
   ]
  },
  {
   "cell_type": "markdown",
   "metadata": {},
   "source": [
    "#### Correct:\n",
    "\n",
    "E′(k,m) = E((k,m),0) and  \n",
    "\n",
    "\n",
    "<div style='border:0px solid red;margin:0;padding:0;height:80px;position:relative;left:30px;'>\n",
    "    <div style='position:absolute;top:30px;'>D'(k,(c,b)) =  </div>\n",
    "    <div style='font-size:80px;font-weight:100;position:absolute;line-height:0.9;left:90px;top:0px'>&#123;</div>\n",
    "    <div style='position:absolute;top:5px;left:120px;width:200px'>D(k,c) &nbsp;&nbsp;&nbsp;&nbsp;if b = 0</div>\n",
    "    <div style='position:absolute;top:50px;left:120px;width:200px;'>&#8869; &nbsp;&nbsp;&nbsp;&nbsp;otherwise</div>    \n",
    "</div>\n"
   ]
  },
  {
   "cell_type": "markdown",
   "metadata": {},
   "source": [
    "## Q3\n",
    "\n",
    "Feedback - correct:\n",
    "\n",
    "Use a standard implementation..."
   ]
  },
  {
   "cell_type": "code",
   "execution_count": null,
   "metadata": {},
   "outputs": [],
   "source": []
  }
 ],
 "metadata": {
  "kernelspec": {
   "display_name": "Python 3",
   "language": "python",
   "name": "python3"
  },
  "language_info": {
   "codemirror_mode": {
    "name": "ipython",
    "version": 3
   },
   "file_extension": ".py",
   "mimetype": "text/x-python",
   "name": "python",
   "nbconvert_exporter": "python",
   "pygments_lexer": "ipython3",
   "version": "3.7.6"
  }
 },
 "nbformat": 4,
 "nbformat_minor": 4
}
