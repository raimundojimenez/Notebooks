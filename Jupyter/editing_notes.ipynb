{
 "cells": [
  {
   "cell_type": "markdown",
   "metadata": {},
   "source": [
    "# Editing notes\n",
    "\n",
    "For maths and symbols in markdown see:    \n",
    "[W3 schools](https://www.w3schools.com/charsets/ref_utf_diacritical.asp)    \n",
    "[html standard](https://html.spec.whatwg.org/multipage/named-characters.html#named-character-references)    \n",
    "[w3](https://dev.w3.org/html5/html-author/charref)    \n",
    "[Stackoverflow](https://stackoverflow.com/questions/11256433/how-to-show-math-equations-in-general-githubs-markdownnot-githubs-blog)    \n",
    "[Entity codes](https://sites.psu.edu/symbolcodes/codehtml/#math)    \n",
    "[Greek symbols](https://www.keynotesupport.com/internet/special-characters-greek-letters-symbols.shtml)    \n",
    "\n",
    "Once you have a preview of a symbol by using an html entity you can then simply copy and paste the rendered symbol without continuing to use the entity tag.\n",
    "\n",
    "### MathJax\n",
    "\n",
    "Jupyter notebooks are [MathJax aware](https://jupyter-notebook.readthedocs.io/en/stable/examples/Notebook/Typesetting%20Equations.html#)\n",
    "\n",
    "Tex documentation:    [Mathematical symbols](https://en.wikibooks.org/wiki/LaTeX/Mathematics#List_of_mathematical_symbols), [Wikibook](https://en.wikibooks.org/wiki/LaTeX),  [Command glossary](https://en.wikibooks.org/wiki/LaTeX/Command_Glossary), [other documentation](http://mirror.aut.ac.nz/CTAN/info/latex-doc-ptr/latex-doc-ptr.pdf)\n",
    "\n",
    "#### Example\n",
    "\n",
    "When $a \\ne 0$, there are two solutions to $ax^2 + bx + c = 0$ and they are\n",
    "$$x = {-b \\pm \\sqrt{b^2-4ac} \\over 2a}.$$\n",
    "\n",
    "#### Another example\n",
    "\n",
    "\\begin{equation*}\n",
    "\\left( \\sum_{k=1}^n a_k b_k \\right)^2 \\leq \\left( \\sum_{k=1}^n a_k^2 \\right) \\left( \\sum_{k=1}^n b_k^2 \\right)\n",
    "\\end{equation*}\n",
    "\n"
   ]
  },
  {
   "cell_type": "code",
   "execution_count": null,
   "metadata": {},
   "outputs": [],
   "source": []
  }
 ],
 "metadata": {
  "kernelspec": {
   "display_name": "Python 3",
   "language": "python",
   "name": "python3"
  },
  "language_info": {
   "codemirror_mode": {
    "name": "ipython",
    "version": 3
   },
   "file_extension": ".py",
   "mimetype": "text/x-python",
   "name": "python",
   "nbconvert_exporter": "python",
   "pygments_lexer": "ipython3",
   "version": "3.7.6"
  }
 },
 "nbformat": 4,
 "nbformat_minor": 4
}
