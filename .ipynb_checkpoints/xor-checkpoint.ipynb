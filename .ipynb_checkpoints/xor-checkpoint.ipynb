{
 "cells": [
  {
   "cell_type": "markdown",
   "metadata": {
    "colab_type": "text",
    "id": "view-in-github"
   },
   "source": [
    "<a href=\"https://colab.research.google.com/github/wrmack/Notebooks/blob/master/xor.ipynb\" target=\"_parent\"><img src=\"https://colab.research.google.com/assets/colab-badge.svg\" alt=\"Open In Colab\"/></a>"
   ]
  },
  {
   "cell_type": "markdown",
   "metadata": {
    "colab_type": "text",
    "id": "0ECpeHqZhiHc"
   },
   "source": [
    "# XOR\n",
    "\n",
    "\n"
   ]
  },
  {
   "cell_type": "markdown",
   "metadata": {
    "colab_type": "text",
    "id": "j0ZKvZchjEqN"
   },
   "source": [
    "## Bitwise operator\n",
    "^ is a bitwise xor operator - it operates on bit patterns    \n",
    "Python converts numbers to bit patterns before applying ^"
   ]
  },
  {
   "cell_type": "code",
   "execution_count": 1,
   "metadata": {
    "colab": {
     "base_uri": "https://localhost:8080/",
     "height": 153
    },
    "colab_type": "code",
    "id": "tt2RDLPAjP_I",
    "outputId": "019cfee7-c2c2-4568-c96f-d7cf0e7595af"
   },
   "outputs": [
    {
     "name": "stdout",
     "output_type": "stream",
     "text": [
      "XOR binary numbers\n",
      "c = b1 ^ b2\n",
      "-----------------\n",
      "b1:  152  b2:  10\n",
      "c:  146\n",
      "c:  0b10010010\n",
      "=================\n",
      "\n"
     ]
    }
   ],
   "source": [
    "# XOR binary numbers\n",
    "b1 = 0b10011000\n",
    "b2 = 0b00001010\n",
    "c = b1 ^ b2\n",
    "\n",
    "\n",
    "print('XOR binary numbers') \n",
    "print('c = b1 ^ b2\\n-----------------')\n",
    "print('b1: ',b1,' b2: ',b2)\n",
    "print('c: ',c)\n",
    "print('c: ',format(c, '#010b'))\n",
    "print('=================\\n')"
   ]
  },
  {
   "cell_type": "markdown",
   "metadata": {
    "colab_type": "text",
    "id": "Zw1TkOAAqIRR"
   },
   "source": [
    "## XOR hex numbers\n",
    "\n",
    "Note that hex() creates a string     \n",
    "Get hex as number with int(hex_string, 16)   \n",
    "https://docs.python.org/3/library/functions.html?highlight=hex#hex"
   ]
  },
  {
   "cell_type": "code",
   "execution_count": 2,
   "metadata": {
    "colab": {
     "base_uri": "https://localhost:8080/",
     "height": 153
    },
    "colab_type": "code",
    "id": "wnA7c2pHqKA3",
    "outputId": "86c0325c-7fc8-473e-8382-39b91789c080"
   },
   "outputs": [
    {
     "name": "stdout",
     "output_type": "stream",
     "text": [
      "XOR hexadecimal numbers\n",
      "-----------------\n",
      "h1:  0x98 <class 'str'> \n",
      "h2:  0xa <class 'str'>\n",
      "c:  0b10010010\n",
      "c_h:  146\n",
      "=================\n",
      "\n"
     ]
    }
   ],
   "source": [
    "# XOR hexadecimal numbers\n",
    "\n",
    "h1 = hex(b1)\n",
    "h2 = hex(b2)\n",
    "c = int(h1,16) ^ int(h2, 16)\n",
    "\n",
    "print('XOR hexadecimal numbers\\n-----------------')\n",
    "print('h1: ',h1, type(h1),'\\nh2: ', h2, type(h2))\n",
    "print('c: ',format(c, '#010b'))\n",
    "\n",
    "h1_h = 0x98\n",
    "h2_h = 0xa\n",
    "c_h = h1_h ^ h2_h\n",
    "\n",
    "print('c_h: ',c_h)\n",
    "print('=================\\n')"
   ]
  },
  {
   "cell_type": "markdown",
   "metadata": {
    "colab_type": "text",
    "id": "23oHsxH8sCXR"
   },
   "source": [
    "## XOR decimal numbers"
   ]
  },
  {
   "cell_type": "code",
   "execution_count": 8,
   "metadata": {
    "colab": {
     "base_uri": "https://localhost:8080/",
     "height": 187
    },
    "colab_type": "code",
    "id": "o1Gq1YforgOF",
    "outputId": "24cfb31f-a1b1-4080-e771-7d730530d6dd"
   },
   "outputs": [
    {
     "name": "stdout",
     "output_type": "stream",
     "text": [
      "Decimal\n",
      "-----------------\n",
      "d1:  152\n",
      "d1 as binary:  0b10011000\n",
      "c:  146\n",
      "c:  0x92\n",
      "c:  0x92\n",
      "c:  0b10010010\n",
      "=================\n",
      "\n"
     ]
    }
   ],
   "source": [
    "# XOR decimal\n",
    "d1 = b1\n",
    "d2 = b2\n",
    "c = d1 ^ d2\n",
    "print('Decimal\\n-----------------')\n",
    "print('d1: ',d1)\n",
    "print('d1 as binary: ',format(d1, '#010b'))\n",
    "print('c: ',c)\n",
    "print('c: ', format(c, '#04x'))\n",
    "print('c: ', hex(c))\n",
    "print('c: ', format(c, '#010b'))\n",
    "print('=================\\n')"
   ]
  },
  {
   "cell_type": "markdown",
   "metadata": {},
   "source": [
    "## XOR text character\n",
    "\n",
    "Could convert ascii decimal number to hex to match the key (is hex) but not necessary.   \n",
    "Python seems to convert anyway when doing the maths   \n",
    "cipher_txt = int(hex(plain_ascii), 16) ^ key   "
   ]
  },
  {
   "cell_type": "code",
   "execution_count": 9,
   "metadata": {
    "colab": {
     "base_uri": "https://localhost:8080/",
     "height": 187
    },
    "colab_type": "code",
    "id": "rvOEQjGksUl9",
    "outputId": "8abd1bc0-d944-4296-bbf1-58cb9f030b4a"
   },
   "outputs": [
    {
     "name": "stdout",
     "output_type": "stream",
     "text": [
      "Text character\n",
      "-----------------\n",
      "plain text:  t\n",
      "plain text ascii:  116\n",
      "plain text ascii as hex:  0x74\n",
      "cipher text:  212\n",
      "cipher text as hex:  0xd4\n",
      "decrypted:  t\n",
      "=================\n",
      "\n"
     ]
    }
   ],
   "source": [
    "#  XOR text character\n",
    "\n",
    "key = 0xa0\n",
    "plain = 't'\n",
    "plain_ascii = ord('t')\n",
    "cipher_txt = plain_ascii ^ key\n",
    "plain_decrypt_ascii = cipher_txt ^ key\n",
    "plain_decrypt_plaintxt = chr(plain_decrypt_ascii)\n",
    "\n",
    "print('Text character\\n-----------------')\n",
    "print('plain text: ', plain)\n",
    "print('plain text ascii: ',plain_ascii)\n",
    "print('plain text ascii as hex: ',hex(plain_ascii))\n",
    "print('cipher text: ',cipher_txt)\n",
    "print('cipher text as hex: ', hex(cipher_txt))\n",
    "print('decrypted: ',plain_decrypt_plaintxt)\n",
    "print('=================\\n')"
   ]
  },
  {
   "cell_type": "markdown",
   "metadata": {},
   "source": [
    "## XOR text word"
   ]
  },
  {
   "cell_type": "code",
   "execution_count": 11,
   "metadata": {
    "colab": {
     "base_uri": "https://localhost:8080/",
     "height": 187
    },
    "colab_type": "code",
    "id": "1W2WFUI4scvV",
    "outputId": "531ac452-42bf-4d93-b854-56a76e958e57"
   },
   "outputs": [
    {
     "name": "stdout",
     "output_type": "stream",
     "text": [
      "Text word\n",
      "-----------------\n",
      "plain text:  The\n",
      "plain text ascii hex:  546865\n",
      "pt_list:  [84, 104, 101]\n",
      "key_list:  [160, 176, 192]\n",
      "cipher_txt [244, 216, 165]\n",
      "verify:  The\n",
      "=================\n",
      "\n"
     ]
    }
   ],
   "source": [
    "# XOR text word\n",
    "# Start with key and plain text\n",
    "key = '\\xa0\\xb0\\xc0' # a0b0c0\n",
    "plain = 'The'\n",
    "#  Plain text as hex string - not necessary - just for info\n",
    "plain_ascii_hex = format(ord('T'), '02x') + format(ord('h'), '02x') + format(ord('e'), '02x')\n",
    "#  Create lists\n",
    "pt_list = [ord('T'), ord('h'), ord('e')]\n",
    "key_list = [ord(x) for x in key]\n",
    "cipher_txt = [x ^ y for (x,y) in zip(pt_list, key_list)]\n",
    "# Verify\n",
    "v = \"\".join(chr(x ^ y) for (x,y) in zip(cipher_txt, key_list))\n",
    "print('Text word\\n-----------------')\n",
    "print('plain text: ',plain)\n",
    "print('plain text ascii hex: ',plain_ascii_hex)\n",
    "print('pt_list: ', pt_list)\n",
    "print('key_list: ', key_list)\n",
    "print('cipher_txt', cipher_txt)\n",
    "print('verify: ',v)\n",
    "print('=================\\n')"
   ]
  },
  {
   "cell_type": "markdown",
   "metadata": {
    "colab_type": "text",
    "id": "lq2DcQiys-Pv"
   },
   "source": [
    "## Substitution \n",
    "Know the key, plaintext and ciphertext    \n",
    "Substitute the key so decryption produces target plaintext    \n",
    "Principle based on single chars: encrypt '5' but decryption produces '6'    \n",
    "\n",
    "if ctxt xor key = '6'    \n",
    "then key = ctxt ^ '6'    \n",
    "\n",
    "Proof:    \n",
    "A xor B = C    \n",
    "xor both sides with B    \n",
    "A xor (B xor B) = C xor B    \n",
    "A xor 0 = C xor B    \n",
    "A = C xor B    "
   ]
  },
  {
   "cell_type": "code",
   "execution_count": 13,
   "metadata": {
    "colab": {
     "base_uri": "https://localhost:8080/",
     "height": 238
    },
    "colab_type": "code",
    "id": "ZUC_M2wfslgQ",
    "outputId": "1830b98e-b22f-4b55-ee6c-dad65bfe8040"
   },
   "outputs": [
    {
     "name": "stdout",
     "output_type": "stream",
     "text": [
      "Substition\n",
      "-----------------\n",
      "plain text:  $10\n",
      "plain text ascii hex:  546865\n",
      "pt_list:  [36, 49, 48]\n",
      "key_list:  [160, 185, 192]\n",
      "cipher_txt [132, 136, 240]\n",
      "substitute:  189\n",
      "key_list2:  [160, 189, 192]\n",
      "kl2:  a0bdc0\n",
      "verify:  $50\n",
      "=================\n",
      "\n"
     ]
    }
   ],
   "source": [
    "# Substitute $50 for original $10\n",
    "\n",
    "key = '\\xa0\\xb9\\xc0' # a0b0c0\n",
    "plain = '$10'\n",
    "pt_list = [ord('$'), ord('1'), ord('0')]\n",
    "key_list = [ord(x) for x in key]\n",
    "cipher_txt = [x ^ y for (x,y) in zip(pt_list, key_list)]\n",
    "substitute = (cipher_txt[1] ^ ord('5'))\n",
    "key_list2 = key_list.copy()\n",
    "key_list2[1] = substitute\n",
    "v = \"\".join(chr(x ^ y) for (x,y) in zip(cipher_txt, key_list2))\n",
    "print('Substition\\n-----------------')\n",
    "print('plain text: ',plain)\n",
    "print('plain text ascii hex: ',plain_ascii_hex)\n",
    "print('pt_list: ', pt_list)\n",
    "print('key_list: ', key_list)\n",
    "print('cipher_txt', cipher_txt)\n",
    "print('substitute: ',substitute)\n",
    "print('key_list2: ', key_list2)\n",
    "kl2 = \"\".join(format(x,'02x') for x in key_list2)\n",
    "print('kl2: ',kl2)\n",
    "print('verify: ',v)\n",
    "print('=================\\n')"
   ]
  }
 ],
 "metadata": {
  "colab": {
   "include_colab_link": true,
   "name": "xor.ipynb",
   "provenance": []
  },
  "kernelspec": {
   "display_name": "Python 3",
   "language": "python",
   "name": "python3"
  },
  "language_info": {
   "codemirror_mode": {
    "name": "ipython",
    "version": 3
   },
   "file_extension": ".py",
   "mimetype": "text/x-python",
   "name": "python",
   "nbconvert_exporter": "python",
   "pygments_lexer": "ipython3",
   "version": "3.7.4"
  }
 },
 "nbformat": 4,
 "nbformat_minor": 4
}
